{
 "cells": [
  {
   "cell_type": "code",
   "execution_count": 17,
   "metadata": {},
   "outputs": [],
   "source": [
    "import serial\n",
    "import time\n",
    "\n",
    "# Replace with the actual serial port name and baud rate\n",
    "serial_port = 'COM13'  # Update with the correct port name\n",
    "baud_rate = 115200\n",
    "\n",
    "# Open the serial connection\n",
    "ser = serial.Serial(serial_port, baud_rate)\n",
    "\n",
    "# Wait for a moment to let the Arduino reset after opening the serial port\n",
    "time.sleep(2)\n",
    "\n",
    "# Send a message to the Arduino to turn on\n",
    "message = 1\n",
    "ser.write(str(message).encode())  # Convert message to bytes and send\n",
    "\n",
    "time.sleep(5)\n",
    "\n",
    "# Send a message to the Arduino to turn off\n",
    "message = 0\n",
    "ser.write(str(message).encode())  # Convert message to bytes and send\n",
    " \n",
    "\n",
    "\n",
    "# Close the serial connection\n",
    "ser.close()"
   ]
  }
 ],
 "metadata": {
  "kernelspec": {
   "display_name": "localisation",
   "language": "python",
   "name": "python3"
  },
  "language_info": {
   "codemirror_mode": {
    "name": "ipython",
    "version": 3
   },
   "file_extension": ".py",
   "mimetype": "text/x-python",
   "name": "python",
   "nbconvert_exporter": "python",
   "pygments_lexer": "ipython3",
   "version": "3.8.16"
  },
  "orig_nbformat": 4
 },
 "nbformat": 4,
 "nbformat_minor": 2
}
